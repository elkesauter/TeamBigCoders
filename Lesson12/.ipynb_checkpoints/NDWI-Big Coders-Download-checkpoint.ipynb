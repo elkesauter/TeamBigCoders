{
 "metadata": {
  "name": "",
  "signature": "sha256:c47bb1e3ba3963167ea0e41549d60f131c63c60754376f267357731d689e9d7f"
 },
 "nbformat": 3,
 "nbformat_minor": 0,
 "worksheets": [
  {
   "cells": [
    {
     "cell_type": "code",
     "collapsed": false,
     "input": [
      "\n",
      "#Team Big Coders- Elke and Joy\n",
      "\n",
      "\n",
      "#import modules\n",
      "from osgeo import gdal\n",
      "from osgeo.gdalconst import GA_ReadOnly, GDT_Float32\n",
      "import numpy as np\n",
      "\n",
      "\n",
      "# open file and print info about the file\n",
      "# the \"../\" refers to the parent directory of my working directory\n",
      "\n",
      "\n",
      "!wget https://www.dropbox.com/s/zb7nrla6fqi1mq4/LC81980242014260-SC20150123044700.tar.gz?dl=1 -O LC81980242014260-SC20150123044700.tar.gz\n",
      "\n",
      " \n",
      "import tarfile\n",
      "tar = tarfile.open(\"LC81980242014260-SC20150123044700.tar.gz\", \"r:gz\")\n",
      "tar.extractall(path=\"data\")\n",
      "tar.close()\n",
      "\n",
      "filename4 = './data/LC81980242014260LGN00_sr_band4.tif'\n",
      "filename5 = './data/LC81980242014260LGN00_sr_band5.tif'\n",
      "dataSource4 = gdal.Open(filename4, GA_ReadOnly)\n",
      "dataSource5 = gdal.Open(filename5, GA_ReadOnly)\n",
      "\n",
      "\n",
      "\n"
     ],
     "language": "python",
     "metadata": {},
     "outputs": [
      {
       "output_type": "stream",
       "stream": "stdout",
       "text": [
        "--2017-01-24 16:22:24--  https://www.dropbox.com/s/zb7nrla6fqi1mq4/LC81980242014260-SC20150123044700.tar.gz?dl=1\r\n",
        "Resolving www.dropbox.com (www.dropbox.com)... 108.160.172.206\r\n",
        "Connecting to www.dropbox.com (www.dropbox.com)|108.160.172.206|:443... "
       ]
      },
      {
       "output_type": "stream",
       "stream": "stdout",
       "text": [
        "connected.\r\n"
       ]
      },
      {
       "output_type": "stream",
       "stream": "stdout",
       "text": [
        "HTTP request sent, awaiting response... "
       ]
      },
      {
       "output_type": "stream",
       "stream": "stdout",
       "text": [
        "302 Found\r\n",
        "Location: https://dl.dropboxusercontent.com/content_link/l0GtrtBTDbIFw5kyv42ZcZ4H3esSTsF0Uim3MmZboK6eJbnGJD3ecvHgGYRJyjz3/file?dl=1 [following]\r\n",
        "--2017-01-24 16:22:24--  https://dl.dropboxusercontent.com/content_link/l0GtrtBTDbIFw5kyv42ZcZ4H3esSTsF0Uim3MmZboK6eJbnGJD3ecvHgGYRJyjz3/file?dl=1\r\n",
        "Resolving dl.dropboxusercontent.com (dl.dropboxusercontent.com)... "
       ]
      },
      {
       "output_type": "stream",
       "stream": "stdout",
       "text": [
        "162.125.65.6\r\n",
        "Connecting to dl.dropboxusercontent.com (dl.dropboxusercontent.com)|162.125.65.6|:443... connected.\r\n",
        "HTTP request sent, awaiting response... "
       ]
      },
      {
       "output_type": "stream",
       "stream": "stdout",
       "text": [
        "200 OK\r\n",
        "Length: 420944962 (401M) [application/octet-stream]\r\n",
        "Saving to: \u2018LC81980242014260-SC20150123044700.tar.gz\u2019\r\n",
        "\r\n",
        "\r",
        "          LC8198024   0%[                    ]       0  --.-KB/s               "
       ]
      },
      {
       "output_type": "stream",
       "stream": "stdout",
       "text": [
        "\r",
        "         LC81980242   0%[                    ]  23.19K  48.8KB/s               "
       ]
      },
      {
       "output_type": "stream",
       "stream": "stdout",
       "text": [
        "\r",
        "        LC819802420   0%[                    ] 343.19K   445KB/s               "
       ]
      },
      {
       "output_type": "stream",
       "stream": "stdout",
       "text": [
        "\r",
        "       LC8198024201   0%[                    ]   2.35M  2.42MB/s               "
       ]
      },
      {
       "output_type": "stream",
       "stream": "stdout",
       "text": [
        "\r",
        "      LC81980242014   1%[                    ]   4.87M  4.16MB/s               "
       ]
      },
      {
       "output_type": "stream",
       "stream": "stdout",
       "text": [
        "\r",
        "     LC819802420142   2%[                    ]  10.68M  7.68MB/s               "
       ]
      },
      {
       "output_type": "stream",
       "stream": "stdout",
       "text": [
        "\r",
        "    LC8198024201426   5%[>                   ]  21.85M  13.7MB/s               "
       ]
      },
      {
       "output_type": "stream",
       "stream": "stdout",
       "text": [
        "\r",
        "   LC81980242014260   8%[>                   ]  33.40M  18.6MB/s               "
       ]
      },
      {
       "output_type": "stream",
       "stream": "stdout",
       "text": [
        "\r",
        "  LC81980242014260-  10%[=>                  ]  42.66M  21.2MB/s               "
       ]
      },
      {
       "output_type": "stream",
       "stream": "stdout",
       "text": [
        "\r",
        " LC81980242014260-S  13%[=>                  ]  54.43M  24.6MB/s               "
       ]
      },
      {
       "output_type": "stream",
       "stream": "stdout",
       "text": [
        "\r",
        "LC81980242014260-SC  15%[==>                 ]  60.65M  25.1MB/s               "
       ]
      },
      {
       "output_type": "stream",
       "stream": "stdout",
       "text": [
        "\r",
        "C81980242014260-SC2  16%[==>                 ]  65.94M  25.2MB/s               "
       ]
      },
      {
       "output_type": "stream",
       "stream": "stdout",
       "text": [
        "\r"
       ]
      },
      {
       "output_type": "stream",
       "stream": "stdout",
       "text": [
        "81980242014260-SC20  18%[==>                 ]  73.41M  26.1MB/s               "
       ]
      },
      {
       "output_type": "stream",
       "stream": "stdout",
       "text": [
        "\r",
        "1980242014260-SC201  20%[===>                ]  82.80M  27.4MB/s    eta 12s    "
       ]
      },
      {
       "output_type": "stream",
       "stream": "stdout",
       "text": [
        "\r",
        "980242014260-SC2015  22%[===>                ]  91.66M  28.5MB/s    eta 12s    "
       ]
      },
      {
       "output_type": "stream",
       "stream": "stdout",
       "text": [
        "\r",
        "80242014260-SC20150  25%[====>               ] 101.74M  29.7MB/s    eta 12s    "
       ]
      },
      {
       "output_type": "stream",
       "stream": "stdout",
       "text": [
        "\r",
        "0242014260-SC201501  28%[====>               ] 113.24M  36.0MB/s    eta 12s    "
       ]
      },
      {
       "output_type": "stream",
       "stream": "stdout",
       "text": [
        "\r",
        "242014260-SC2015012  31%[=====>              ] 126.71M  39.7MB/s    eta 12s    "
       ]
      },
      {
       "output_type": "stream",
       "stream": "stdout",
       "text": [
        "\r",
        "42014260-SC20150123  34%[=====>              ] 136.68M  43.7MB/s    eta 8s     "
       ]
      },
      {
       "output_type": "stream",
       "stream": "stdout",
       "text": [
        "\r",
        "2014260-SC201501230  36%[======>             ] 147.73M  37.5MB/s    eta 8s     "
       ]
      },
      {
       "output_type": "stream",
       "stream": "stdout",
       "text": [
        "\r",
        "014260-SC2015012304  39%[======>             ] 159.37M  39.3MB/s    eta 8s     "
       ]
      },
      {
       "output_type": "stream",
       "stream": "stdout",
       "text": [
        "\r",
        "14260-SC20150123044  42%[=======>            ] 169.58M  40.0MB/s    eta 8s     "
       ]
      },
      {
       "output_type": "stream",
       "stream": "stdout",
       "text": [
        "\r",
        "4260-SC201501230447  43%[=======>            ] 175.51M  38.1MB/s    eta 8s     "
       ]
      },
      {
       "output_type": "stream",
       "stream": "stdout",
       "text": [
        "\r",
        "260-SC2015012304470  46%[========>           ] 185.41M  38.2MB/s    eta 8s     "
       ]
      },
      {
       "output_type": "stream",
       "stream": "stdout",
       "text": [
        "\r",
        "60-SC20150123044700  46%[========>           ] 187.77M  31.0MB/s    eta 7s     "
       ]
      },
      {
       "output_type": "stream",
       "stream": "stdout",
       "text": [
        "\r",
        "0-SC20150123044700.  49%[========>           ] 200.41M  31.8MB/s    eta 7s     "
       ]
      },
      {
       "output_type": "stream",
       "stream": "stdout",
       "text": [
        "\r"
       ]
      },
      {
       "output_type": "stream",
       "stream": "stdout",
       "text": [
        "-SC20150123044700.t  51%[=========>          ] 207.69M  32.3MB/s    eta 7s     "
       ]
      },
      {
       "output_type": "stream",
       "stream": "stdout",
       "text": [
        "\r",
        "SC20150123044700.ta  54%[=========>          ] 217.58M  33.2MB/s    eta 7s     "
       ]
      },
      {
       "output_type": "stream",
       "stream": "stdout",
       "text": [
        "\r",
        "C20150123044700.tar  55%[==========>         ] 223.73M  33.0MB/s    eta 7s     "
       ]
      },
      {
       "output_type": "stream",
       "stream": "stdout",
       "text": [
        "\r",
        "20150123044700.tar.  58%[==========>         ] 234.20M  33.0MB/s    eta 5s     "
       ]
      },
      {
       "output_type": "stream",
       "stream": "stdout",
       "text": [
        "\r",
        "0150123044700.tar.g  58%[==========>         ] 235.83M  30.9MB/s    eta 5s     "
       ]
      },
      {
       "output_type": "stream",
       "stream": "stdout",
       "text": [
        "\r",
        "150123044700.tar.gz  60%[===========>        ] 244.76M  30.8MB/s    eta 5s     "
       ]
      },
      {
       "output_type": "stream",
       "stream": "stdout",
       "text": [
        "\r",
        "50123044700.tar.gz   62%[===========>        ] 251.85M  28.8MB/s    eta 5s     "
       ]
      },
      {
       "output_type": "stream",
       "stream": "stdout",
       "text": [
        "\r",
        "0123044700.tar.gz    65%[============>       ] 262.33M  28.5MB/s    eta 5s     "
       ]
      },
      {
       "output_type": "stream",
       "stream": "stdout",
       "text": [
        "\r",
        "123044700.tar.gz     66%[============>       ] 267.68M  27.6MB/s    eta 4s     "
       ]
      },
      {
       "output_type": "stream",
       "stream": "stdout",
       "text": [
        "\r",
        "23044700.tar.gz      67%[============>       ] 271.69M  26.6MB/s    eta 4s     "
       ]
      },
      {
       "output_type": "stream",
       "stream": "stdout",
       "text": [
        "\r",
        "3044700.tar.gz       70%[=============>      ] 282.31M  27.0MB/s    eta 4s     "
       ]
      },
      {
       "output_type": "stream",
       "stream": "stdout",
       "text": [
        "\r",
        "044700.tar.gz        72%[=============>      ] 292.12M  27.2MB/s    eta 4s     "
       ]
      },
      {
       "output_type": "stream",
       "stream": "stdout",
       "text": [
        "\r",
        "44700.tar.gz         75%[==============>     ] 301.63M  27.4MB/s    eta 4s     "
       ]
      },
      {
       "output_type": "stream",
       "stream": "stdout",
       "text": [
        "\r",
        "4700.tar.gz          75%[==============>     ] 303.62M  26.2MB/s    eta 4s     "
       ]
      },
      {
       "output_type": "stream",
       "stream": "stdout",
       "text": [
        "\r",
        "700.tar.gz           78%[==============>     ] 315.87M  32.3MB/s    eta 4s     "
       ]
      },
      {
       "output_type": "stream",
       "stream": "stdout",
       "text": [
        "\r",
        "00.tar.gz            80%[===============>    ] 323.60M  31.0MB/s    eta 4s     "
       ]
      },
      {
       "output_type": "stream",
       "stream": "stdout",
       "text": [
        "\r",
        "0.tar.gz             83%[===============>    ] 334.50M  31.4MB/s    eta 2s     "
       ]
      },
      {
       "output_type": "stream",
       "stream": "stdout",
       "text": [
        "\r",
        ".tar.gz              85%[================>   ] 343.71M  31.2MB/s    eta 2s     "
       ]
      },
      {
       "output_type": "stream",
       "stream": "stdout",
       "text": [
        "\r",
        "tar.gz               88%[================>   ] 354.55M  31.5MB/s    eta 2s     "
       ]
      },
      {
       "output_type": "stream",
       "stream": "stdout",
       "text": [
        "\r",
        "ar.gz                89%[================>   ] 359.96M  32.2MB/s    eta 2s     "
       ]
      },
      {
       "output_type": "stream",
       "stream": "stdout",
       "text": [
        "\r",
        "r.gz                 91%[=================>  ] 367.58M  28.6MB/s    eta 1s     "
       ]
      },
      {
       "output_type": "stream",
       "stream": "stdout",
       "text": [
        "\r",
        ".gz                  94%[=================>  ] 377.55M  29.0MB/s    eta 1s     "
       ]
      },
      {
       "output_type": "stream",
       "stream": "stdout",
       "text": [
        "\r",
        "gz                   96%[==================> ] 387.40M  29.3MB/s    eta 1s     "
       ]
      },
      {
       "output_type": "stream",
       "stream": "stdout",
       "text": [
        "\r",
        "z                    97%[==================> ] 391.88M  27.4MB/s    eta 1s     "
       ]
      },
      {
       "output_type": "stream",
       "stream": "stdout",
       "text": [
        "\r",
        "                     99%[==================> ] 401.35M  32.7MB/s    eta 0s     \r",
        "LC81980242014260-SC 100%[===================>] 401.44M  32.7MB/s    in 13s     \r\n",
        "\r\n",
        "2017-01-24 16:22:40 (29.8 MB/s) - \u2018LC81980242014260-SC20150123044700.tar.gz\u2019 saved [420944962/420944962]\r\n",
        "\r\n"
       ]
      }
     ],
     "prompt_number": 1
    },
    {
     "cell_type": "code",
     "collapsed": false,
     "input": [
      "\n",
      "print \"\\nInformation about \" + filename4 + filename5 \n",
      "print \"Driver4: \", dataSource4.GetDriver().ShortName,\"/\", \\\n",
      "      dataSource4.GetDriver().LongName\n",
      "print \"Driver4: \", dataSource5.GetDriver().ShortName,\"/\", \\\n",
      "      dataSource5.GetDriver().LongName\n",
      "    \n",
      "print \"Size4 is \",dataSource4.RasterXSize,\"x\",dataSource5.RasterYSize, \\\n",
      "      'x',dataSource4.RasterCount\n",
      "print \"Size5 is \",dataSource5.RasterXSize,\"x\",dataSource5.RasterYSize, \\\n",
      "      'x',dataSource5.RasterCount\n"
     ],
     "language": "python",
     "metadata": {},
     "outputs": [
      {
       "output_type": "stream",
       "stream": "stdout",
       "text": [
        "\n",
        "Information about ./data/LC81980242014260LGN00_sr_band4.tif./data/LC81980242014260LGN00_sr_band5.tif\n",
        "Driver4:  GTiff / GeoTIFF\n",
        "Driver4:  GTiff / GeoTIFF\n",
        "Size4 is  7791 x 7911 x 1\n",
        "Size5 is  7791 x 7911 x 1\n"
       ]
      }
     ],
     "prompt_number": 2
    },
    {
     "cell_type": "code",
     "collapsed": false,
     "input": [
      "print '\\nProjection is: ', dataSource4.GetProjection()\n",
      "print '\\nProjection is: ', dataSource5.GetProjection()\n",
      "\n",
      "\n",
      "\n"
     ],
     "language": "python",
     "metadata": {},
     "outputs": [
      {
       "output_type": "stream",
       "stream": "stdout",
       "text": [
        "\n",
        "Projection is:  PROJCS[\"WGS 84 / UTM zone 31N\",GEOGCS[\"WGS 84\",DATUM[\"WGS_1984\",SPHEROID[\"WGS 84\",6378137,298.257223563,AUTHORITY[\"EPSG\",\"7030\"]],AUTHORITY[\"EPSG\",\"6326\"]],PRIMEM[\"Greenwich\",0,AUTHORITY[\"EPSG\",\"8901\"]],UNIT[\"degree\",0.0174532925199433,AUTHORITY[\"EPSG\",\"9122\"]],AUTHORITY[\"EPSG\",\"4326\"]],PROJECTION[\"Transverse_Mercator\"],PARAMETER[\"latitude_of_origin\",0],PARAMETER[\"central_meridian\",3],PARAMETER[\"scale_factor\",0.9996],PARAMETER[\"false_easting\",500000],PARAMETER[\"false_northing\",0],UNIT[\"metre\",1,AUTHORITY[\"EPSG\",\"9001\"]],AXIS[\"Easting\",EAST],AXIS[\"Northing\",NORTH],AUTHORITY[\"EPSG\",\"32631\"]]\n",
        "\n",
        "Projection is:  PROJCS[\"WGS 84 / UTM zone 31N\",GEOGCS[\"WGS 84\",DATUM[\"WGS_1984\",SPHEROID[\"WGS 84\",6378137,298.257223563,AUTHORITY[\"EPSG\",\"7030\"]],AUTHORITY[\"EPSG\",\"6326\"]],PRIMEM[\"Greenwich\",0,AUTHORITY[\"EPSG\",\"8901\"]],UNIT[\"degree\",0.0174532925199433,AUTHORITY[\"EPSG\",\"9122\"]],AUTHORITY[\"EPSG\",\"4326\"]],PROJECTION[\"Transverse_Mercator\"],PARAMETER[\"latitude_of_origin\",0],PARAMETER[\"central_meridian\",3],PARAMETER[\"scale_factor\",0.9996],PARAMETER[\"false_easting\",500000],PARAMETER[\"false_northing\",0],UNIT[\"metre\",1,AUTHORITY[\"EPSG\",\"9001\"]],AXIS[\"Easting\",EAST],AXIS[\"Northing\",NORTH],AUTHORITY[\"EPSG\",\"32631\"]]\n"
       ]
      }
     ],
     "prompt_number": 3
    },
    {
     "cell_type": "code",
     "collapsed": false,
     "input": [],
     "language": "python",
     "metadata": {},
     "outputs": [],
     "prompt_number": 3
    },
    {
     "cell_type": "code",
     "collapsed": false,
     "input": [],
     "language": "python",
     "metadata": {},
     "outputs": [],
     "prompt_number": 3
    },
    {
     "cell_type": "code",
     "collapsed": false,
     "input": [
      "\n",
      "print \"\\nInformation about the location of the image and the pixel size:\"\n",
      "geotransform4 = dataSource4.GetGeoTransform()\n",
      "geotransform5 = dataSource5.GetGeoTransform()\n",
      "print geotransform4\n",
      "print geotransform5\n"
     ],
     "language": "python",
     "metadata": {},
     "outputs": [
      {
       "output_type": "stream",
       "stream": "stdout",
       "text": [
        "\n",
        "Information about the location of the image and the pixel size:\n",
        "(529185.0, 30.0, 0.0, 5847015.0, 0.0, -30.0)\n",
        "(529185.0, 30.0, 0.0, 5847015.0, 0.0, -30.0)\n"
       ]
      }
     ],
     "prompt_number": 4
    },
    {
     "cell_type": "code",
     "collapsed": false,
     "input": [
      "if not geotransform4 is None:\n",
      "    print 'Origin = (',geotransform4[0], ',',geotransform4[3],')'\n",
      "    print 'Pixel Size = (',geotransform4[1], ',',geotransform4[5],')'\n",
      "    "
     ],
     "language": "python",
     "metadata": {},
     "outputs": [
      {
       "output_type": "stream",
       "stream": "stdout",
       "text": [
        "Origin = ( 529185.0 , 5847015.0 )\n",
        "Pixel Size = ( 30.0 , -30.0 )\n"
       ]
      }
     ],
     "prompt_number": 5
    },
    {
     "cell_type": "code",
     "collapsed": false,
     "input": [
      "if not geotransform5 is None:\n",
      "    print 'Origin = (',geotransform5[0], ',',geotransform5[3],')'\n",
      "    print 'Pixel Size = (',geotransform5[1], ',',geotransform5[5],')'\n",
      "    "
     ],
     "language": "python",
     "metadata": {},
     "outputs": [
      {
       "output_type": "stream",
       "stream": "stdout",
       "text": [
        "Origin = ( 529185.0 , 5847015.0 )\n",
        "Pixel Size = ( 30.0 , -30.0 )\n"
       ]
      }
     ],
     "prompt_number": 6
    },
    {
     "cell_type": "code",
     "collapsed": false,
     "input": [
      "# Read data into an array\n",
      "band4Arr = dataSource4.ReadAsArray(0,0,dataSource4.RasterXSize, dataSource4.RasterYSize)\n",
      "band5Arr = dataSource5.ReadAsArray(0,0,dataSource5.RasterXSize, dataSource5.RasterYSize)\n",
      "print type(band4Arr)\n",
      "print type(band5Arr)"
     ],
     "language": "python",
     "metadata": {},
     "outputs": [
      {
       "output_type": "stream",
       "stream": "stdout",
       "text": [
        "<type 'numpy.ndarray'>\n",
        "<type 'numpy.ndarray'>\n"
       ]
      }
     ],
     "prompt_number": 7
    },
    {
     "cell_type": "code",
     "collapsed": false,
     "input": [
      "# set the data type\n",
      "band4Arr=band4Arr.astype(np.float32)\n",
      "band5Arr=band5Arr.astype(np.float32)"
     ],
     "language": "python",
     "metadata": {},
     "outputs": [],
     "prompt_number": 8
    },
    {
     "cell_type": "code",
     "collapsed": false,
     "input": [
      "# Derive the NDVI\n",
      "mask = np.greater(band4Arr+band5Arr,0)\n",
      "\n",
      "# set np.errstate to avoid warning of invalid values (i.e. NaN values) in the divide \n",
      "with np.errstate(invalid='ignore') and np.errstate(divide='ignore'):\n",
      "    ndwi = np.choose(mask,(-99,(band4Arr-band5Arr)/(band4Arr+band5Arr)))\n",
      "    \n",
      "print \"NDWI min and max values\", ndwi.min(), ndwi.max()\n",
      "# Check the real minimum value\n",
      "print ndwi[ndwi>-99].min()"
     ],
     "language": "python",
     "metadata": {},
     "outputs": [
      {
       "output_type": "stream",
       "stream": "stdout",
       "text": [
        "NDWI min and max values "
       ]
      },
      {
       "output_type": "stream",
       "stream": "stdout",
       "text": [
        "-99.0 "
       ]
      },
      {
       "output_type": "stream",
       "stream": "stdout",
       "text": [
        "21.3333\n",
        "-2.36481"
       ]
      },
      {
       "output_type": "stream",
       "stream": "stdout",
       "text": [
        "\n"
       ]
      }
     ],
     "prompt_number": 9
    },
    {
     "cell_type": "code",
     "collapsed": false,
     "input": [
      "# Write the result to disk\n",
      "driver = gdal.GetDriverByName('GTiff')\n",
      "outDataSet=driver.Create('./data/ndwi.tif', dataSource4.RasterXSize, dataSource4.RasterYSize, 1, GDT_Float32)\n",
      "outBand = outDataSet.GetRasterBand(1)\n",
      "outBand.WriteArray(ndwi,0,0)\n",
      "outBand.SetNoDataValue(-99)\n",
      "\n",
      "\n",
      "\n"
     ],
     "language": "python",
     "metadata": {},
     "outputs": [
      {
       "metadata": {},
       "output_type": "pyout",
       "prompt_number": 10,
       "text": [
        "0"
       ]
      }
     ],
     "prompt_number": 10
    },
    {
     "cell_type": "code",
     "collapsed": false,
     "input": [],
     "language": "python",
     "metadata": {},
     "outputs": [],
     "prompt_number": 10
    },
    {
     "cell_type": "code",
     "collapsed": false,
     "input": [
      "\n",
      "\n",
      "\n"
     ],
     "language": "python",
     "metadata": {},
     "outputs": [],
     "prompt_number": 10
    },
    {
     "cell_type": "code",
     "collapsed": false,
     "input": [
      "# set the projection and extent information of the dataset\n",
      "outDataSet.SetProjection(dataSource4.GetProjection())\n",
      "outDataSet.SetGeoTransform(dataSource4.GetGeoTransform())\n",
      "\n",
      "# Finally let's save it... or like in the OGR example flush it\n",
      "outDataSet.FlushCache()"
     ],
     "language": "python",
     "metadata": {},
     "outputs": [],
     "prompt_number": 11
    },
    {
     "cell_type": "code",
     "collapsed": false,
     "input": [
      "!gdalinfo ./data/ndwi.tif"
     ],
     "language": "python",
     "metadata": {},
     "outputs": [
      {
       "output_type": "stream",
       "stream": "stdout",
       "text": [
        "Driver: GTiff/GeoTIFF\r\n",
        "Files: ./data/ndwi.tif\r\n",
        "Size is 7791, 7911\r\n",
        "Coordinate System is:\r\n",
        "PROJCS[\"WGS 84 / UTM zone 31N\",\r\n",
        "    GEOGCS[\"WGS 84\",\r\n",
        "        DATUM[\"WGS_1984\",\r\n",
        "            SPHEROID[\"WGS 84\",6378137,298.257223563,\r\n",
        "                AUTHORITY[\"EPSG\",\"7030\"]],\r\n",
        "            AUTHORITY[\"EPSG\",\"6326\"]],\r\n",
        "        PRIMEM[\"Greenwich\",0,\r\n",
        "            AUTHORITY[\"EPSG\",\"8901\"]],\r\n",
        "        UNIT[\"degree\",0.0174532925199433,\r\n",
        "            AUTHORITY[\"EPSG\",\"9122\"]],\r\n",
        "        AUTHORITY[\"EPSG\",\"4326\"]],\r\n",
        "    PROJECTION[\"Transverse_Mercator\"],\r\n",
        "    PARAMETER[\"latitude_of_origin\",0],\r\n",
        "    PARAMETER[\"central_meridian\",3],\r\n",
        "    PARAMETER[\"scale_factor\",0.9996],\r\n",
        "    PARAMETER[\"false_easting\",500000],\r\n",
        "    PARAMETER[\"false_northing\",0],\r\n",
        "    UNIT[\"metre\",1,\r\n",
        "        AUTHORITY[\"EPSG\",\"9001\"]],\r\n",
        "    AXIS[\"Easting\",EAST],\r\n",
        "    AXIS[\"Northing\",NORTH],\r\n",
        "    AUTHORITY[\"EPSG\",\"32631\"]]\r\n",
        "Origin = (529185.000000000000000,5847015.000000000000000)\r\n",
        "Pixel Size = (30.000000000000000,-30.000000000000000)\r\n",
        "Metadata:\r\n",
        "  AREA_OR_POINT=Area\r\n",
        "Image Structure Metadata:\r\n",
        "  INTERLEAVE=BAND\r\n",
        "Corner Coordinates:\r\n",
        "Upper Left  (  529185.000, 5847015.000) (  3d25'57.39\"E, 52d46'19.83\"N)\r\n",
        "Lower Left  (  529185.000, 5609685.000) (  3d24'45.80\"E, 50d38'17.88\"N)\r\n",
        "Upper Right (  762915.000, 5847015.000) (  6d53'32.41\"E, 52d42'32.58\"N)\r\n",
        "Lower Right (  762915.000, 5609685.000) (  6d42'50.08\"E, 50d34'47.26\"N)\r\n",
        "Center      (  646050.000, 5728350.000) (  5d 6'46.27\"E, 51d41'13.53\"N)\r\n",
        "Band 1 Block=7791x1 Type=Float32, ColorInterp=Gray\r\n",
        "  NoData Value=-99\r\n"
       ]
      }
     ],
     "prompt_number": 12
    },
    {
     "cell_type": "code",
     "collapsed": false,
     "input": [
      "# via the Shell\n",
      "!gdalwarp -t_srs \"EPSG:4326\" ./data/ndwi.tif ./data/ndwi_ll.tif"
     ],
     "language": "python",
     "metadata": {},
     "outputs": [
      {
       "output_type": "stream",
       "stream": "stdout",
       "text": [
        "Creating output file that is 9790P x 6168L.\r\n",
        "Processing input file ./data/ndwi.tif.\r\n",
        "Using internal nodata values (e.g. -99) for image ./data/ndwi.tif.\r\n",
        "Copying nodata values from source ./data/ndwi.tif to destination ./data/ndwi_ll.tif.\r\n"
       ]
      },
      {
       "output_type": "stream",
       "stream": "stdout",
       "text": [
        "0"
       ]
      },
      {
       "output_type": "stream",
       "stream": "stdout",
       "text": [
        "."
       ]
      },
      {
       "output_type": "stream",
       "stream": "stdout",
       "text": [
        "."
       ]
      },
      {
       "output_type": "stream",
       "stream": "stdout",
       "text": [
        "."
       ]
      },
      {
       "output_type": "stream",
       "stream": "stdout",
       "text": [
        "10"
       ]
      },
      {
       "output_type": "stream",
       "stream": "stdout",
       "text": [
        "."
       ]
      },
      {
       "output_type": "stream",
       "stream": "stdout",
       "text": [
        "."
       ]
      },
      {
       "output_type": "stream",
       "stream": "stdout",
       "text": [
        "."
       ]
      },
      {
       "output_type": "stream",
       "stream": "stdout",
       "text": [
        "20"
       ]
      },
      {
       "output_type": "stream",
       "stream": "stdout",
       "text": [
        "."
       ]
      },
      {
       "output_type": "stream",
       "stream": "stdout",
       "text": [
        "."
       ]
      },
      {
       "output_type": "stream",
       "stream": "stdout",
       "text": [
        "."
       ]
      },
      {
       "output_type": "stream",
       "stream": "stdout",
       "text": [
        "30"
       ]
      },
      {
       "output_type": "stream",
       "stream": "stdout",
       "text": [
        "."
       ]
      },
      {
       "output_type": "stream",
       "stream": "stdout",
       "text": [
        "."
       ]
      },
      {
       "output_type": "stream",
       "stream": "stdout",
       "text": [
        "."
       ]
      },
      {
       "output_type": "stream",
       "stream": "stdout",
       "text": [
        "40"
       ]
      },
      {
       "output_type": "stream",
       "stream": "stdout",
       "text": [
        "."
       ]
      },
      {
       "output_type": "stream",
       "stream": "stdout",
       "text": [
        "."
       ]
      },
      {
       "output_type": "stream",
       "stream": "stdout",
       "text": [
        "."
       ]
      },
      {
       "output_type": "stream",
       "stream": "stdout",
       "text": [
        "50"
       ]
      },
      {
       "output_type": "stream",
       "stream": "stdout",
       "text": [
        "."
       ]
      },
      {
       "output_type": "stream",
       "stream": "stdout",
       "text": [
        "."
       ]
      },
      {
       "output_type": "stream",
       "stream": "stdout",
       "text": [
        "."
       ]
      },
      {
       "output_type": "stream",
       "stream": "stdout",
       "text": [
        "60"
       ]
      },
      {
       "output_type": "stream",
       "stream": "stdout",
       "text": [
        "."
       ]
      },
      {
       "output_type": "stream",
       "stream": "stdout",
       "text": [
        "."
       ]
      },
      {
       "output_type": "stream",
       "stream": "stdout",
       "text": [
        "."
       ]
      },
      {
       "output_type": "stream",
       "stream": "stdout",
       "text": [
        "70"
       ]
      },
      {
       "output_type": "stream",
       "stream": "stdout",
       "text": [
        "."
       ]
      },
      {
       "output_type": "stream",
       "stream": "stdout",
       "text": [
        "."
       ]
      },
      {
       "output_type": "stream",
       "stream": "stdout",
       "text": [
        "."
       ]
      },
      {
       "output_type": "stream",
       "stream": "stdout",
       "text": [
        "80"
       ]
      },
      {
       "output_type": "stream",
       "stream": "stdout",
       "text": [
        "."
       ]
      },
      {
       "output_type": "stream",
       "stream": "stdout",
       "text": [
        "."
       ]
      },
      {
       "output_type": "stream",
       "stream": "stdout",
       "text": [
        ".90"
       ]
      },
      {
       "output_type": "stream",
       "stream": "stdout",
       "text": [
        "."
       ]
      },
      {
       "output_type": "stream",
       "stream": "stdout",
       "text": [
        "."
       ]
      },
      {
       "output_type": "stream",
       "stream": "stdout",
       "text": [
        "."
       ]
      },
      {
       "output_type": "stream",
       "stream": "stdout",
       "text": [
        "100 - done.\r\n"
       ]
      }
     ],
     "prompt_number": 13
    },
    {
     "cell_type": "code",
     "collapsed": false,
     "input": [
      "# Let's check what the result is\n",
      "!gdalinfo ./data/ndwi_ll.tif"
     ],
     "language": "python",
     "metadata": {},
     "outputs": [
      {
       "output_type": "stream",
       "stream": "stdout",
       "text": [
        "Driver: GTiff/GeoTIFF\r\n",
        "Files: ./data/ndwi_ll.tif\r\n",
        "Size is 9790, 6168\r\n",
        "Coordinate System is:\r\n",
        "GEOGCS[\"WGS 84\",\r\n",
        "    DATUM[\"WGS_1984\",\r\n",
        "        SPHEROID[\"WGS 84\",6378137,298.257223563,\r\n",
        "            AUTHORITY[\"EPSG\",\"7030\"]],\r\n",
        "        AUTHORITY[\"EPSG\",\"6326\"]],\r\n",
        "    PRIMEM[\"Greenwich\",0],\r\n",
        "    UNIT[\"degree\",0.0174532925199433],\r\n",
        "    AUTHORITY[\"EPSG\",\"4326\"]]\r\n",
        "Origin = (3.412720989343651,52.772174160489868)\r\n",
        "Pixel Size = (0.000355418665319,-0.000355418665319)\r\n",
        "Metadata:\r\n",
        "  AREA_OR_POINT=Area\r\n",
        "Image Structure Metadata:\r\n",
        "  INTERLEAVE=BAND\r\n",
        "Corner Coordinates:\r\n",
        "Upper Left  (   3.4127210,  52.7721742) (  3d24'45.80\"E, 52d46'19.83\"N)\r\n",
        "Lower Left  (   3.4127210,  50.5799518) (  3d24'45.80\"E, 50d34'47.83\"N)\r\n",
        "Upper Right (   6.8922697,  52.7721742) (  6d53'32.17\"E, 52d46'19.83\"N)\r\n",
        "Lower Right (   6.8922697,  50.5799518) (  6d53'32.17\"E, 50d34'47.83\"N)\r\n",
        "Center      (   5.1524954,  51.6760630) (  5d 9' 8.98\"E, 51d40'33.83\"N)\r\n",
        "Band 1 Block=9790x1 Type=Float32, ColorInterp=Gray\r\n",
        "  NoData Value=-99\r\n"
       ]
      }
     ],
     "prompt_number": 14
    },
    {
     "cell_type": "code",
     "collapsed": false,
     "input": [
      "# Notebook magic to select the plotting method\n",
      "# Change to inline to plot within this notebook\n",
      "#%matplotlib inline \n",
      "%matplotlib inline\n",
      "from osgeo import gdal\n",
      "import matplotlib.pyplot as plt"
     ],
     "language": "python",
     "metadata": {},
     "outputs": [],
     "prompt_number": 15
    },
    {
     "cell_type": "code",
     "collapsed": false,
     "input": [
      "# Open image\n",
      "dsll = gdal.Open(\"./data/ndwi_ll.tif\")\n",
      "\n",
      "# Read raster data\n",
      "ndvi = dsll.ReadAsArray(0, 0, dsll.RasterXSize, dsll.RasterYSize)\n",
      "\n",
      "# Now plot the raster data using gist_earth palette\n",
      "plt.imshow(ndwi, interpolation='nearest', vmin=0, cmap=plt.cm.gist_earth)\n",
      "plt.show()\n",
      "\n",
      "dsll = None"
     ],
     "language": "python",
     "metadata": {},
     "outputs": [
      {
       "metadata": {},
       "output_type": "display_data",
       "png": "[encoded data removed]",
       "text": [
        "<matplotlib.figure.Figure at 0x7f17829c82d0>"
       ]
      }
     ],
     "prompt_number": 16
    },
    {
     "cell_type": "code",
     "collapsed": false,
     "input": [],
     "language": "python",
     "metadata": {},
     "outputs": [],
     "prompt_number": 16
    }
   ],
   "metadata": {}
  }
 ]
}